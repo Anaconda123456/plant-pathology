{
  "nbformat": 4,
  "nbformat_minor": 0,
  "metadata": {
    "colab": {
      "provenance": [],
      "machine_shape": "hm",
      "include_colab_link": true
    },
    "kernelspec": {
      "name": "python3",
      "display_name": "Python 3"
    },
    "accelerator": "GPU"
  },
  "cells": [
    {
      "cell_type": "markdown",
      "metadata": {
        "id": "view-in-github",
        "colab_type": "text"
      },
      "source": [
        "<a href=\"https://colab.research.google.com/github/Faizan-404/plant-pathology/blob/main/Faizan_plant_pathology.ipynb\" target=\"_parent\"><img src=\"https://colab.research.google.com/assets/colab-badge.svg\" alt=\"Open In Colab\"/></a>"
      ]
    },
    {
      "cell_type": "code",
      "metadata": {
        "id": "Sx5j3dHetSMd"
      },
      "source": [
        "from google.colab import drive\n",
        "drive.mount('/content/drive')"
      ],
      "execution_count": null,
      "outputs": []
    },
    {
      "cell_type": "code",
      "metadata": {
        "id": "ACw-BHgtoztF",
        "colab": {
          "base_uri": "https://localhost:8080/"
        },
        "outputId": "4b8c6c5f-b6c9-49b8-a7fd-26664627f079"
      },
      "source": [
        "!unzip '/content/drive/MyDrive/plant_pathology512and256.zip' -d '/content/image_small/'"
      ],
      "execution_count": null,
      "outputs": [
        {
          "metadata": {
            "tags": null
          },
          "name": "stdout",
          "output_type": "stream",
          "text": [
            "Archive:  /content/drive/MyDrive/plant_pathology512and256.zip\n",
            "replace /content/image_small/train.csv? [y]es, [n]o, [A]ll, [N]one, [r]ename: "
          ]
        }
      ]
    },
    {
      "cell_type": "code",
      "metadata": {
        "id": "7kYgBiLglcE0"
      },
      "source": [
        "!unzip '/content/image_small/plant_pathology_small_256.zip' -d '/content/image_folder'"
      ],
      "execution_count": null,
      "outputs": []
    },
    {
      "cell_type": "code",
      "metadata": {
        "id": "OskToxjzAiQv"
      },
      "source": [
        "from fastai.vision import *\n",
        "import numpy as np\n",
        "import pandas as pd\n",
        "import matplotlib.pyplot as plt\n",
        "import seaborn as sns\n",
        "import matplotlib.image as mpimg\n",
        "import shutil\n",
        "from fastai.callbacks import SaveModelCallback"
      ],
      "execution_count": null,
      "outputs": []
    },
    {
      "cell_type": "code",
      "source": [
        "pip install fastai==1.0.61"
      ],
      "metadata": {
        "id": "NjwmQ6ejyU6y"
      },
      "execution_count": null,
      "outputs": []
    },
    {
      "cell_type": "code",
      "metadata": {
        "id": "GQwLIGCaBcs4"
      },
      "source": [
        "path = Path('/content/image_small')"
      ],
      "execution_count": null,
      "outputs": []
    },
    {
      "cell_type": "code",
      "metadata": {
        "id": "bD4WzCn8Bimk"
      },
      "source": [
        "train = pd.read_csv(path/'train.csv')\n",
        "test = pd.read_csv(path/'test.csv')"
      ],
      "execution_count": null,
      "outputs": []
    },
    {
      "cell_type": "code",
      "metadata": {
        "id": "YhSk9jbaBnHc"
      },
      "source": [
        "train.head()"
      ],
      "execution_count": null,
      "outputs": []
    },
    {
      "cell_type": "markdown",
      "metadata": {
        "id": "qmJCxuOYBsyF"
      },
      "source": [
        "## As can been seen here so it is one hot encoded."
      ]
    },
    {
      "cell_type": "code",
      "metadata": {
        "id": "DUOrUK_5BrS9"
      },
      "source": [
        "print('Count plot of different Features')\n",
        "plt.figure(1,figsize=(16,8))\n",
        "plt.subplot(221)\n",
        "sns.countplot(x=train.healthy)\n",
        "plt.subplot(222)\n",
        "sns.countplot(x=train.multiple_diseases)\n",
        "plt.subplot(223)\n",
        "sns.countplot(x=train.rust)\n",
        "plt.subplot(224)\n",
        "sns.countplot(x=train.scab)\n",
        "plt.show()"
      ],
      "execution_count": null,
      "outputs": []
    },
    {
      "cell_type": "markdown",
      "metadata": {
        "id": "4sCmlGGHkpXm"
      },
      "source": [
        "## These are quite big images"
      ]
    },
    {
      "cell_type": "markdown",
      "metadata": {
        "id": "ruJBVcGlk0yz"
      },
      "source": [
        "## New Image size"
      ]
    },
    {
      "cell_type": "code",
      "metadata": {
        "id": "8v5IEW5wBpmI"
      },
      "source": [
        "cols = train.columns.tolist()[1:];cols"
      ],
      "execution_count": null,
      "outputs": []
    },
    {
      "cell_type": "code",
      "metadata": {
        "id": "WUs5Yyp7B7OX"
      },
      "source": [
        "tfms = get_transforms(do_flip=True)"
      ],
      "execution_count": null,
      "outputs": []
    },
    {
      "cell_type": "code",
      "metadata": {
        "id": "PKtlBhvt0E9Y"
      },
      "source": [
        "tfms"
      ],
      "execution_count": null,
      "outputs": []
    },
    {
      "cell_type": "code",
      "metadata": {
        "id": "hziP4TKuB8MS"
      },
      "source": [
        "#ts = (ImageList.from_df(test,path,folder='images',suffix='.jpg',cols='image_id'))"
      ],
      "execution_count": null,
      "outputs": []
    },
    {
      "cell_type": "code",
      "metadata": {
        "id": "mzh7iTwrB8JT"
      },
      "source": [
        "data = (ImageList.from_df(train,path='/content',folder='image_folder',suffix='.jpg',cols='image_id')\n",
        "                .split_by_rand_pct(0.15,seed=23)\n",
        "                .label_from_df(cols=cols,label_cls = MultiCategoryList, one_hot = True)\n",
        "                .transform(size=128)\n",
        "                #.add_test(ts)\n",
        "                .databunch(bs=64).normalize(imagenet_stats))"
      ],
      "execution_count": null,
      "outputs": []
    },
    {
      "cell_type": "code",
      "metadata": {
        "id": "_e3GLaeKB8EP"
      },
      "source": [
        "data.show_batch(rows=3,figsize=(20,8))"
      ],
      "execution_count": null,
      "outputs": []
    },
    {
      "cell_type": "code",
      "metadata": {
        "id": "pyzTLddhB8CB"
      },
      "source": [
        "len(data.train_ds),len(data.valid_ds),data.train_ds[0][0].shape"
      ],
      "execution_count": null,
      "outputs": []
    },
    {
      "cell_type": "code",
      "metadata": {
        "id": "sJ1aiIBmB7-7"
      },
      "source": [
        "acc_02 = partial(accuracy_thresh, thresh=0.2)\n",
        "f_score = partial(fbeta, thresh=0.2)"
      ],
      "execution_count": null,
      "outputs": []
    },
    {
      "cell_type": "code",
      "metadata": {
        "id": "d98xi38LCkwl"
      },
      "source": [
        "learn = cnn_learner(data, models.resnet50 , metrics = [acc_02, f_score])"
      ],
      "execution_count": null,
      "outputs": []
    },
    {
      "cell_type": "code",
      "metadata": {
        "id": "bkMNcIGHjJC2"
      },
      "source": [
        "\n",
        "import gc\n",
        "gc.collect()"
      ],
      "execution_count": null,
      "outputs": []
    },
    {
      "cell_type": "code",
      "metadata": {
        "id": "397rhdA7jMtG"
      },
      "source": [
        "learn.lr_find()\n",
        "learn.recorder.plot()"
      ],
      "execution_count": null,
      "outputs": []
    },
    {
      "cell_type": "code",
      "metadata": {
        "id": "DgwvgU89j25J"
      },
      "source": [
        "np.linspace(1e-2,1e-1,5)"
      ],
      "execution_count": null,
      "outputs": []
    },
    {
      "cell_type": "code",
      "metadata": {
        "id": "Hfe3YqWVC4zH"
      },
      "source": [
        "learn.fit_one_cycle( 10 , slice(1e-1/2) , moms = (0.8,0.7) ,callbacks=[SaveModelCallback(learn,monitor='fbeta')])"
      ],
      "execution_count": null,
      "outputs": []
    },
    {
      "cell_type": "code",
      "metadata": {
        "id": "QVJckxGenAH5"
      },
      "source": [
        "img = open_image('/content/image_folder/Test_0.jpg')"
      ],
      "execution_count": null,
      "outputs": []
    },
    {
      "cell_type": "code",
      "metadata": {
        "id": "Vu31buyon4It"
      },
      "source": [
        "import warnings\n",
        "warnings.filterwarnings(\"ignore\")"
      ],
      "execution_count": null,
      "outputs": []
    },
    {
      "cell_type": "code",
      "metadata": {
        "id": "oMpXyyBZxdUg"
      },
      "source": [
        "learn.export('apple_leaf_model.pkl')"
      ],
      "execution_count": null,
      "outputs": []
    },
    {
      "cell_type": "code",
      "metadata": {
        "id": "sCq-688OrgSn"
      },
      "source": [
        "!cp '/content/models/bestmodel.pth' '/content/drive/MyDrive'"
      ],
      "execution_count": null,
      "outputs": []
    },
    {
      "cell_type": "code",
      "metadata": {
        "id": "KrHcLocvoKVQ"
      },
      "source": [
        "def classify_appleleaf(img_path):\n",
        "    lbls = ['healthy', 'multiple_diseases', 'rust', 'scab']\n",
        "    img = open_image(img_path)\n",
        "    img.show(figsize=(8,8))\n",
        "    a = learn.predict(img)\n",
        "    print(lbls[a[2].argmax()])"
      ],
      "execution_count": null,
      "outputs": []
    },
    {
      "cell_type": "code",
      "source": [
        "\n"
      ],
      "metadata": {
        "id": "T5iUqH62dBFU"
      },
      "execution_count": null,
      "outputs": []
    },
    {
      "cell_type": "code",
      "metadata": {
        "id": "FcnAt0hSnAMN"
      },
      "source": [
        "classify_appleleaf('/content/image_folder/Test_1007.jpg')"
      ],
      "execution_count": null,
      "outputs": []
    },
    {
      "cell_type": "code",
      "metadata": {
        "id": "JPkhXQOqprX-"
      },
      "source": [],
      "execution_count": null,
      "outputs": []
    },
    {
      "cell_type": "code",
      "metadata": {
        "id": "KN-O5tDbyldQ"
      },
      "source": [],
      "execution_count": null,
      "outputs": []
    }
  ]
}